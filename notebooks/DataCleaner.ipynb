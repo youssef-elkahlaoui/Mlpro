{
 "cells": [
  {
   "cell_type": "markdown",
   "metadata": {},
   "source": [
    "# DATA CLEANING"
   ]
  },
  {
   "cell_type": "markdown",
   "metadata": {},
   "source": [
    "### import modules and libraries"
   ]
  },
  {
   "cell_type": "code",
   "execution_count": 1,
   "metadata": {},
   "outputs": [],
   "source": [
    "import pandas as pd\n",
    "import numpy as np\n",
    "import matplotlib.pyplot as plt\n",
    "import seaborn as sns"
   ]
  },
  {
   "cell_type": "markdown",
   "metadata": {},
   "source": [
    "### import dataset\n"
   ]
  },
  {
   "cell_type": "code",
   "execution_count": 2,
   "metadata": {
    "scrolled": true
   },
   "outputs": [
    {
     "data": {
      "text/html": [
       "<div>\n",
       "<style scoped>\n",
       "    .dataframe tbody tr th:only-of-type {\n",
       "        vertical-align: middle;\n",
       "    }\n",
       "\n",
       "    .dataframe tbody tr th {\n",
       "        vertical-align: top;\n",
       "    }\n",
       "\n",
       "    .dataframe thead th {\n",
       "        text-align: right;\n",
       "    }\n",
       "</style>\n",
       "<table border=\"1\" class=\"dataframe\">\n",
       "  <thead>\n",
       "    <tr style=\"text-align: right;\">\n",
       "      <th></th>\n",
       "      <th>name</th>\n",
       "      <th>price</th>\n",
       "      <th>year</th>\n",
       "      <th>mileage</th>\n",
       "      <th>engine</th>\n",
       "      <th>transmission</th>\n",
       "    </tr>\n",
       "  </thead>\n",
       "  <tbody>\n",
       "    <tr>\n",
       "      <th>157498</th>\n",
       "      <td>PORSCHE CAYENNE</td>\n",
       "      <td>£84,975</td>\n",
       "      <td>2019</td>\n",
       "      <td>26,511 miles</td>\n",
       "      <td>Hybrid</td>\n",
       "      <td>Automatic</td>\n",
       "    </tr>\n",
       "    <tr>\n",
       "      <th>157499</th>\n",
       "      <td>BMW X7</td>\n",
       "      <td>£84,985</td>\n",
       "      <td>2023</td>\n",
       "      <td>28,787 miles</td>\n",
       "      <td>Hybrid</td>\n",
       "      <td>Semiauto</td>\n",
       "    </tr>\n",
       "    <tr>\n",
       "      <th>157500</th>\n",
       "      <td>Land Rover Range Rover</td>\n",
       "      <td>£84,989</td>\n",
       "      <td>2023</td>\n",
       "      <td>10,708 miles</td>\n",
       "      <td>Diesel</td>\n",
       "      <td>Automatic</td>\n",
       "    </tr>\n",
       "    <tr>\n",
       "      <th>157501</th>\n",
       "      <td>Audi RS Q8</td>\n",
       "      <td>£84,990</td>\n",
       "      <td>2020</td>\n",
       "      <td>13,181 miles</td>\n",
       "      <td>Petrol</td>\n",
       "      <td>Semiauto</td>\n",
       "    </tr>\n",
       "    <tr>\n",
       "      <th>157502</th>\n",
       "      <td>Audi Q7</td>\n",
       "      <td>£84,990</td>\n",
       "      <td>2024</td>\n",
       "      <td>5,401 miles</td>\n",
       "      <td>Petrol</td>\n",
       "      <td>Semiauto</td>\n",
       "    </tr>\n",
       "    <tr>\n",
       "      <th>157503</th>\n",
       "      <td>Audi SQ8</td>\n",
       "      <td>£84,990</td>\n",
       "      <td>2024</td>\n",
       "      <td>1,000 miles</td>\n",
       "      <td>Petrol</td>\n",
       "      <td>Semiauto</td>\n",
       "    </tr>\n",
       "    <tr>\n",
       "      <th>157504</th>\n",
       "      <td>Land Rover Range Rover Estate</td>\n",
       "      <td>£84,990</td>\n",
       "      <td>2022</td>\n",
       "      <td>31,482 miles</td>\n",
       "      <td>Petrol</td>\n",
       "      <td>Automatic</td>\n",
       "    </tr>\n",
       "    <tr>\n",
       "      <th>157505</th>\n",
       "      <td>BMW X7</td>\n",
       "      <td>£84,990</td>\n",
       "      <td>2024</td>\n",
       "      <td>7,639 miles</td>\n",
       "      <td>Diesel</td>\n",
       "      <td>Semiauto</td>\n",
       "    </tr>\n",
       "    <tr>\n",
       "      <th>157506</th>\n",
       "      <td>Volkswagen Grand California</td>\n",
       "      <td>£84,995</td>\n",
       "      <td>2024</td>\n",
       "      <td>20 miles</td>\n",
       "      <td>Diesel</td>\n",
       "      <td>Semiauto</td>\n",
       "    </tr>\n",
       "    <tr>\n",
       "      <th>157507</th>\n",
       "      <td>MERCEDES-BENZ S-CLASS</td>\n",
       "      <td>£84,995</td>\n",
       "      <td>2022</td>\n",
       "      <td>32,000 miles</td>\n",
       "      <td>Hybrid</td>\n",
       "      <td>Automatic</td>\n",
       "    </tr>\n",
       "  </tbody>\n",
       "</table>\n",
       "</div>"
      ],
      "text/plain": [
       "                                 name    price  year       mileage  engine  \\\n",
       "157498                PORSCHE CAYENNE  £84,975  2019  26,511 miles  Hybrid   \n",
       "157499                         BMW X7  £84,985  2023  28,787 miles  Hybrid   \n",
       "157500         Land Rover Range Rover  £84,989  2023  10,708 miles  Diesel   \n",
       "157501                     Audi RS Q8  £84,990  2020  13,181 miles  Petrol   \n",
       "157502                        Audi Q7  £84,990  2024   5,401 miles  Petrol   \n",
       "157503                       Audi SQ8  £84,990  2024   1,000 miles  Petrol   \n",
       "157504  Land Rover Range Rover Estate  £84,990  2022  31,482 miles  Petrol   \n",
       "157505                         BMW X7  £84,990  2024   7,639 miles  Diesel   \n",
       "157506    Volkswagen Grand California  £84,995  2024      20 miles  Diesel   \n",
       "157507          MERCEDES-BENZ S-CLASS  £84,995  2022  32,000 miles  Hybrid   \n",
       "\n",
       "       transmission  \n",
       "157498    Automatic  \n",
       "157499     Semiauto  \n",
       "157500    Automatic  \n",
       "157501     Semiauto  \n",
       "157502     Semiauto  \n",
       "157503     Semiauto  \n",
       "157504    Automatic  \n",
       "157505     Semiauto  \n",
       "157506     Semiauto  \n",
       "157507    Automatic  "
      ]
     },
     "execution_count": 2,
     "metadata": {},
     "output_type": "execute_result"
    }
   ],
   "source": [
    "data = pd.read_csv('../dataSet/car_data.csv')\n",
    "data.tail(10)"
   ]
  },
  {
   "cell_type": "markdown",
   "metadata": {},
   "source": [
    "The car features are names of the car, price of the car, production year, miles travelled, engine and transmission types"
   ]
  },
  {
   "cell_type": "markdown",
   "metadata": {},
   "source": [
    "### get the shape of the data"
   ]
  },
  {
   "cell_type": "code",
   "execution_count": 3,
   "metadata": {},
   "outputs": [
    {
     "data": {
      "text/plain": [
       "(157508, 6)"
      ]
     },
     "execution_count": 3,
     "metadata": {},
     "output_type": "execute_result"
    }
   ],
   "source": [
    "data.shape"
   ]
  },
  {
   "cell_type": "markdown",
   "metadata": {},
   "source": [
    "### get the statistical description of the float columns"
   ]
  },
  {
   "cell_type": "code",
   "execution_count": 4,
   "metadata": {},
   "outputs": [
    {
     "data": {
      "text/html": [
       "<div>\n",
       "<style scoped>\n",
       "    .dataframe tbody tr th:only-of-type {\n",
       "        vertical-align: middle;\n",
       "    }\n",
       "\n",
       "    .dataframe tbody tr th {\n",
       "        vertical-align: top;\n",
       "    }\n",
       "\n",
       "    .dataframe thead th {\n",
       "        text-align: right;\n",
       "    }\n",
       "</style>\n",
       "<table border=\"1\" class=\"dataframe\">\n",
       "  <thead>\n",
       "    <tr style=\"text-align: right;\">\n",
       "      <th></th>\n",
       "      <th>name</th>\n",
       "      <th>price</th>\n",
       "      <th>year</th>\n",
       "      <th>mileage</th>\n",
       "      <th>engine</th>\n",
       "      <th>transmission</th>\n",
       "    </tr>\n",
       "  </thead>\n",
       "  <tbody>\n",
       "    <tr>\n",
       "      <th>count</th>\n",
       "      <td>157508</td>\n",
       "      <td>157508</td>\n",
       "      <td>157508</td>\n",
       "      <td>157508</td>\n",
       "      <td>157508</td>\n",
       "      <td>156060</td>\n",
       "    </tr>\n",
       "    <tr>\n",
       "      <th>unique</th>\n",
       "      <td>2423</td>\n",
       "      <td>15678</td>\n",
       "      <td>76</td>\n",
       "      <td>23627</td>\n",
       "      <td>33</td>\n",
       "      <td>18</td>\n",
       "    </tr>\n",
       "    <tr>\n",
       "      <th>top</th>\n",
       "      <td>Land Rover Defender</td>\n",
       "      <td>£50,000</td>\n",
       "      <td>2024</td>\n",
       "      <td>5,000 miles</td>\n",
       "      <td>Petrol</td>\n",
       "      <td>Automatic</td>\n",
       "    </tr>\n",
       "    <tr>\n",
       "      <th>freq</th>\n",
       "      <td>7351</td>\n",
       "      <td>986</td>\n",
       "      <td>48611</td>\n",
       "      <td>2158</td>\n",
       "      <td>66804</td>\n",
       "      <td>76486</td>\n",
       "    </tr>\n",
       "  </tbody>\n",
       "</table>\n",
       "</div>"
      ],
      "text/plain": [
       "                       name    price    year      mileage  engine transmission\n",
       "count                157508   157508  157508       157508  157508       156060\n",
       "unique                 2423    15678      76        23627      33           18\n",
       "top     Land Rover Defender  £50,000    2024  5,000 miles  Petrol    Automatic\n",
       "freq                   7351      986   48611         2158   66804        76486"
      ]
     },
     "execution_count": 4,
     "metadata": {},
     "output_type": "execute_result"
    }
   ],
   "source": [
    "data.describe()"
   ]
  },
  {
   "cell_type": "code",
   "execution_count": 5,
   "metadata": {
    "scrolled": true
   },
   "outputs": [
    {
     "name": "stdout",
     "output_type": "stream",
     "text": [
      "<class 'pandas.core.frame.DataFrame'>\n",
      "RangeIndex: 157508 entries, 0 to 157507\n",
      "Data columns (total 6 columns):\n",
      " #   Column        Non-Null Count   Dtype \n",
      "---  ------        --------------   ----- \n",
      " 0   name          157508 non-null  object\n",
      " 1   price         157508 non-null  object\n",
      " 2   year          157508 non-null  object\n",
      " 3   mileage       157508 non-null  object\n",
      " 4   engine        157508 non-null  object\n",
      " 5   transmission  156060 non-null  object\n",
      "dtypes: object(6)\n",
      "memory usage: 7.2+ MB\n"
     ]
    }
   ],
   "source": [
    "data.info()"
   ]
  },
  {
   "cell_type": "code",
   "execution_count": 6,
   "metadata": {
    "scrolled": true
   },
   "outputs": [
    {
     "data": {
      "text/plain": [
       "name               0\n",
       "price              0\n",
       "year               0\n",
       "mileage            0\n",
       "engine             0\n",
       "transmission    1448\n",
       "dtype: int64"
      ]
     },
     "execution_count": 6,
     "metadata": {},
     "output_type": "execute_result"
    }
   ],
   "source": [
    "data.isnull().sum()"
   ]
  },
  {
   "cell_type": "markdown",
   "metadata": {},
   "source": [
    "There are some missing values in the transmission column.which is a very small number so we need to check the column to see how we can clean it"
   ]
  },
  {
   "cell_type": "code",
   "execution_count": 7,
   "metadata": {},
   "outputs": [
    {
     "data": {
      "text/html": [
       "<div>\n",
       "<style scoped>\n",
       "    .dataframe tbody tr th:only-of-type {\n",
       "        vertical-align: middle;\n",
       "    }\n",
       "\n",
       "    .dataframe tbody tr th {\n",
       "        vertical-align: top;\n",
       "    }\n",
       "\n",
       "    .dataframe thead th {\n",
       "        text-align: right;\n",
       "    }\n",
       "</style>\n",
       "<table border=\"1\" class=\"dataframe\">\n",
       "  <thead>\n",
       "    <tr style=\"text-align: right;\">\n",
       "      <th></th>\n",
       "      <th>name</th>\n",
       "      <th>price</th>\n",
       "      <th>year</th>\n",
       "      <th>mileage</th>\n",
       "      <th>engine</th>\n",
       "      <th>transmission</th>\n",
       "    </tr>\n",
       "  </thead>\n",
       "  <tbody>\n",
       "    <tr>\n",
       "      <th>7380</th>\n",
       "      <td>Renault Megane</td>\n",
       "      <td>£5,295</td>\n",
       "      <td>2017</td>\n",
       "      <td>133,203 miles</td>\n",
       "      <td>Manual</td>\n",
       "      <td>NaN</td>\n",
       "    </tr>\n",
       "    <tr>\n",
       "      <th>7381</th>\n",
       "      <td>Volkswagen Passat</td>\n",
       "      <td>£5,295</td>\n",
       "      <td>2017</td>\n",
       "      <td>133,203 miles</td>\n",
       "      <td>Manual</td>\n",
       "      <td>NaN</td>\n",
       "    </tr>\n",
       "    <tr>\n",
       "      <th>7382</th>\n",
       "      <td>Hyundai i10</td>\n",
       "      <td>£5,295</td>\n",
       "      <td>2017</td>\n",
       "      <td>133,203 miles</td>\n",
       "      <td>Manual</td>\n",
       "      <td>NaN</td>\n",
       "    </tr>\n",
       "    <tr>\n",
       "      <th>7383</th>\n",
       "      <td>FORD FIESTA</td>\n",
       "      <td>£5,295</td>\n",
       "      <td>2017</td>\n",
       "      <td>133,203 miles</td>\n",
       "      <td>Manual</td>\n",
       "      <td>NaN</td>\n",
       "    </tr>\n",
       "    <tr>\n",
       "      <th>7384</th>\n",
       "      <td>Ford S-Max</td>\n",
       "      <td>£5,295</td>\n",
       "      <td>2017</td>\n",
       "      <td>133,203 miles</td>\n",
       "      <td>Manual</td>\n",
       "      <td>NaN</td>\n",
       "    </tr>\n",
       "    <tr>\n",
       "      <th>...</th>\n",
       "      <td>...</td>\n",
       "      <td>...</td>\n",
       "      <td>...</td>\n",
       "      <td>...</td>\n",
       "      <td>...</td>\n",
       "      <td>...</td>\n",
       "    </tr>\n",
       "    <tr>\n",
       "      <th>144071</th>\n",
       "      <td>BMW i5</td>\n",
       "      <td>£75,000</td>\n",
       "      <td>10 miles</td>\n",
       "      <td>Electric</td>\n",
       "      <td>Automatic</td>\n",
       "      <td>NaN</td>\n",
       "    </tr>\n",
       "    <tr>\n",
       "      <th>144090</th>\n",
       "      <td>BMW i5</td>\n",
       "      <td>£75,000</td>\n",
       "      <td>10 miles</td>\n",
       "      <td>Electric</td>\n",
       "      <td>Automatic</td>\n",
       "      <td>NaN</td>\n",
       "    </tr>\n",
       "    <tr>\n",
       "      <th>145510</th>\n",
       "      <td>Ferrari California</td>\n",
       "      <td>£76,995</td>\n",
       "      <td>28,900 miles</td>\n",
       "      <td>Petrol</td>\n",
       "      <td>Automatic</td>\n",
       "      <td>NaN</td>\n",
       "    </tr>\n",
       "    <tr>\n",
       "      <th>156534</th>\n",
       "      <td>Bentley Bentayga</td>\n",
       "      <td>£84,995</td>\n",
       "      <td>14,600 miles</td>\n",
       "      <td>Diesel</td>\n",
       "      <td>Automatic</td>\n",
       "      <td>NaN</td>\n",
       "    </tr>\n",
       "    <tr>\n",
       "      <th>156545</th>\n",
       "      <td>BMW iX</td>\n",
       "      <td>£85,000</td>\n",
       "      <td>2,500 miles</td>\n",
       "      <td>Electric</td>\n",
       "      <td>Automatic</td>\n",
       "      <td>NaN</td>\n",
       "    </tr>\n",
       "  </tbody>\n",
       "</table>\n",
       "<p>1448 rows × 6 columns</p>\n",
       "</div>"
      ],
      "text/plain": [
       "                      name    price          year        mileage     engine  \\\n",
       "7380        Renault Megane   £5,295          2017  133,203 miles     Manual   \n",
       "7381     Volkswagen Passat   £5,295          2017  133,203 miles     Manual   \n",
       "7382           Hyundai i10   £5,295          2017  133,203 miles     Manual   \n",
       "7383           FORD FIESTA   £5,295          2017  133,203 miles     Manual   \n",
       "7384            Ford S-Max   £5,295          2017  133,203 miles     Manual   \n",
       "...                    ...      ...           ...            ...        ...   \n",
       "144071              BMW i5  £75,000      10 miles       Electric  Automatic   \n",
       "144090              BMW i5  £75,000      10 miles       Electric  Automatic   \n",
       "145510  Ferrari California  £76,995  28,900 miles         Petrol  Automatic   \n",
       "156534    Bentley Bentayga  £84,995  14,600 miles         Diesel  Automatic   \n",
       "156545              BMW iX  £85,000   2,500 miles       Electric  Automatic   \n",
       "\n",
       "       transmission  \n",
       "7380            NaN  \n",
       "7381            NaN  \n",
       "7382            NaN  \n",
       "7383            NaN  \n",
       "7384            NaN  \n",
       "...             ...  \n",
       "144071          NaN  \n",
       "144090          NaN  \n",
       "145510          NaN  \n",
       "156534          NaN  \n",
       "156545          NaN  \n",
       "\n",
       "[1448 rows x 6 columns]"
      ]
     },
     "execution_count": 7,
     "metadata": {},
     "output_type": "execute_result"
    }
   ],
   "source": [
    "data[data['transmission'].isnull()]"
   ]
  },
  {
   "cell_type": "markdown",
   "metadata": {},
   "source": [
    "The rows with null values are small and look inconsistent, so it is best we delete it"
   ]
  },
  {
   "cell_type": "code",
   "execution_count": 8,
   "metadata": {
    "scrolled": true
   },
   "outputs": [
    {
     "data": {
      "text/plain": [
       "(156060, 6)"
      ]
     },
     "execution_count": 8,
     "metadata": {},
     "output_type": "execute_result"
    }
   ],
   "source": [
    "data= data.dropna()\n",
    "data.shape"
   ]
  },
  {
   "cell_type": "markdown",
   "metadata": {},
   "source": [
    "about 1450 rows have been deleted which is less than 1% of the total data"
   ]
  },
  {
   "cell_type": "code",
   "execution_count": 9,
   "metadata": {},
   "outputs": [],
   "source": [
    "#delete duplicate rows \n",
    "data = data.drop_duplicates(keep= 'first', inplace=False)"
   ]
  },
  {
   "cell_type": "code",
   "execution_count": 10,
   "metadata": {},
   "outputs": [
    {
     "data": {
      "text/plain": [
       "(66807, 6)"
      ]
     },
     "execution_count": 10,
     "metadata": {},
     "output_type": "execute_result"
    }
   ],
   "source": [
    "data.shape"
   ]
  },
  {
   "cell_type": "markdown",
   "metadata": {},
   "source": [
    "## NAME"
   ]
  },
  {
   "cell_type": "markdown",
   "metadata": {},
   "source": [
    "We will extract the name of the car manufacturers from the name column"
   ]
  },
  {
   "cell_type": "code",
   "execution_count": 11,
   "metadata": {
    "scrolled": true
   },
   "outputs": [
    {
     "data": {
      "text/plain": [
       "0        Ford Fiesta\n",
       "1     Vauxhall Corsa\n",
       "2    Vauxhall Zafira\n",
       "3        Peugeot 107\n",
       "4     Vauxhall Corsa\n",
       "Name: name, dtype: object"
      ]
     },
     "execution_count": 11,
     "metadata": {},
     "output_type": "execute_result"
    }
   ],
   "source": [
    "# Remove white spaces from the column names\n",
    "data.columns = data.columns.str.strip()\n",
    "\n",
    "# Set the manufacturer column to uppercase and handle 'LAND ROVER' separately\n",
    "data['manufacturer'] = data['name'].apply(lambda x: 'LAND ROVER' if 'LAND ROVER' in x.upper() else x.split(' ')[0].upper())\n",
    "\n",
    "# Keep just the first letter of each word in the 'name' column in uppercase\n",
    "data['name'] = data['name'].str.title()\n",
    "\n",
    "data['manufacturer'].head()\n",
    "data['name'].head()\n"
   ]
  },
  {
   "cell_type": "markdown",
   "metadata": {},
   "source": [
    "show the number of unique manufacturers"
   ]
  },
  {
   "cell_type": "code",
   "execution_count": 12,
   "metadata": {},
   "outputs": [
    {
     "data": {
      "text/plain": [
       "71"
      ]
     },
     "execution_count": 12,
     "metadata": {},
     "output_type": "execute_result"
    }
   ],
   "source": [
    "data.manufacturer.nunique()"
   ]
  },
  {
   "cell_type": "markdown",
   "metadata": {},
   "source": [
    "We will clean these data by making similar maufacturers uniform."
   ]
  },
  {
   "cell_type": "code",
   "execution_count": 13,
   "metadata": {
    "scrolled": false
   },
   "outputs": [
    {
     "name": "stdout",
     "output_type": "stream",
     "text": [
      "['FORD' 'VAUXHALL' 'PEUGEOT' 'BMW' 'HONDA' 'MAZDA' 'KIA' 'VOLKSWAGEN'\n",
      " 'NISSAN' 'RENAULT' 'FIAT' 'AUDI' 'CITROEN' 'VOLVO' 'SUZUKI' 'JAGUAR'\n",
      " 'TOYOTA' 'SEAT' 'DACIA' 'MINI' 'SKODA' 'DAIHATSU' 'HYUNDAI'\n",
      " 'MERCEDES-BENZ' 'SUBARU' 'LAND ROVER' 'SAAB' 'MERCEDES' 'ALFA'\n",
      " 'CHEVROLET' 'MITSUBISHI' 'SMART' 'LEXUS' 'DODGE' 'CHRYSLER' 'SSANGYONG'\n",
      " 'JEEP' 'MG' 'DS' 'ROVER' 'IVECO' 'PORSCHE' 'GREAT' 'ABARTH' 'INFINITI'\n",
      " 'TRIUMPH' 'ISUZU' 'MASERATI' 'MAXUS' 'LDV' 'TESLA' 'LEVC' 'BENTLEY' 'MAN'\n",
      " 'POLESTAR' 'CUPRA' 'LOTUS' 'CATERHAM' 'KGM' 'ROLLS-ROYCE' 'GENESIS'\n",
      " 'ASTON' 'MORGAN' 'HUMMER' 'SMARTUK' 'ALPINE' 'MAYBACH' 'INEOS' 'FERRARI'\n",
      " 'MCLAREN' 'ROLLS']\n"
     ]
    }
   ],
   "source": [
    "marks =data.manufacturer.unique()\n",
    "print(marks)"
   ]
  },
  {
   "cell_type": "markdown",
   "metadata": {},
   "source": [
    "## PRICE"
   ]
  },
  {
   "cell_type": "markdown",
   "metadata": {},
   "source": [
    "format the price to valuse without currency\n"
   ]
  },
  {
   "cell_type": "code",
   "execution_count": 14,
   "metadata": {
    "scrolled": false
   },
   "outputs": [
    {
     "name": "stdout",
     "output_type": "stream",
     "text": [
      "0    1500\n",
      "1    1500\n",
      "2    1500\n",
      "3    1500\n",
      "4    1500\n",
      "Name: price, dtype: int64\n",
      "156542    84995\n",
      "156543    84995\n",
      "156544    84999\n",
      "156546    85000\n",
      "156547    85000\n",
      "Name: price, dtype: int64\n"
     ]
    }
   ],
   "source": [
    "# Remove non-numeric characters and convert to integer\n",
    "data['price'] = data['price'].str.replace(',', '').str.replace('£', '').str.extract('(\\d+)').astype(np.int64)\n",
    "print(data['price'].head())\n",
    "print(data['price'].tail())"
   ]
  },
  {
   "cell_type": "markdown",
   "metadata": {},
   "source": [
    "## YEAR"
   ]
  },
  {
   "cell_type": "markdown",
   "metadata": {},
   "source": [
    "we have to convert year into age so it will be easy interpret by our model"
   ]
  },
  {
   "cell_type": "code",
   "execution_count": 15,
   "metadata": {},
   "outputs": [],
   "source": [
    "#convert the year column to integer\n",
    "data['year']=data['year'].astype(str).astype(np.int64)"
   ]
  },
  {
   "cell_type": "code",
   "execution_count": 19,
   "metadata": {},
   "outputs": [],
   "source": [
    "data['age'] = 2025 - data['year']"
   ]
  },
  {
   "cell_type": "code",
   "execution_count": 20,
   "metadata": {},
   "outputs": [],
   "source": [
    "data['age'] = data['age'].astype(np.int64)"
   ]
  },
  {
   "cell_type": "markdown",
   "metadata": {},
   "source": [
    "### Remove rows with negative age\n"
   ]
  },
  {
   "cell_type": "code",
   "execution_count": null,
   "metadata": {},
   "outputs": [
    {
     "name": "stdout",
     "output_type": "stream",
     "text": [
      "(66807, 8)\n",
      "(66806, 8)\n"
     ]
    }
   ],
   "source": [
    "print(data.shape)\n",
    "data['age'].tail()\n",
    "data = data[data['age'] >= 0]\n",
    "print(data.shape)"
   ]
  },
  {
   "cell_type": "markdown",
   "metadata": {},
   "source": [
    "### mileage to kilomiterage\n"
   ]
  },
  {
   "cell_type": "markdown",
   "metadata": {},
   "source": [
    "Remove the commas and miles from the mileage column , convert it to kilomiterage"
   ]
  },
  {
   "cell_type": "code",
   "execution_count": null,
   "metadata": {
    "scrolled": true
   },
   "outputs": [
    {
     "data": {
      "text/plain": [
       "156541     4184\n",
       "156542     3057\n",
       "156544    45061\n",
       "156546    12824\n",
       "156547     7903\n",
       "Name: kilometerage, dtype: int64"
      ]
     },
     "execution_count": 21,
     "metadata": {},
     "output_type": "execute_result"
    }
   ],
   "source": [
    "# Remove commas, spaces, and 'miles' from the mileage column and convert to integer\n",
    "data['mileage'] = data['mileage'].str.replace(',', '').str.replace(' ', '').str.replace('miles', '').astype(np.int64)\n",
    "\n",
    "# Convert mileage to kilometerage\n",
    "data['mileage'] = (data['mileage'] * 1.60934).astype(np.int64)\n",
    "\n",
    "# Rename the column to 'kilometerage'\n",
    "data.rename(columns={'mileage': 'kilometerage'}, inplace=True)\n",
    "\n",
    "data['kilometerage'].tail()"
   ]
  },
  {
   "cell_type": "markdown",
   "metadata": {},
   "source": [
    "## ENGINE"
   ]
  },
  {
   "cell_type": "code",
   "execution_count": 22,
   "metadata": {},
   "outputs": [
    {
     "data": {
      "text/plain": [
       "array(['Petrol', 'Diesel', 'Electric', 'Petrol hybrid', 'Petrol/electric',\n",
       "       'Hybrid', 'Petrol plug-in hybri', 'Hybrid electric',\n",
       "       'Petrol/electric hybr', 'Petrol/mhev', 'Plug-in hybrid',\n",
       "       'Electric diesel', 'Electric only', 'Petrol series phev',\n",
       "       'Diesel hybrid', 'Petrol parallel phev', 'Petrol/plugin elec h',\n",
       "       'Petrol / electric hy', 'Diesel/mhev', 'Petrol/plugin e',\n",
       "       'Unleaded', 'Diesel/electric hybr', 'Diesel plug-in hybri', 'N/a',\n",
       "       'Petrol plug-in', 'Diesel/plugin e', 'Bi fuel',\n",
       "       'Diesel parallel phev', 'Diesel / electric hy',\n",
       "       'Diesel/plugin elec h'], dtype=object)"
      ]
     },
     "execution_count": 22,
     "metadata": {},
     "output_type": "execute_result"
    }
   ],
   "source": [
    "# remove spaces\n",
    "data['engine'] = data['engine'].str.strip()\n",
    "data['engine'].unique()"
   ]
  },
  {
   "cell_type": "code",
   "execution_count": 23,
   "metadata": {
    "scrolled": true
   },
   "outputs": [
    {
     "data": {
      "text/plain": [
       "array(['Petrol', 'Diesel', 'Electric', 'Hybrid', 'Plug_in_hybrid',\n",
       "       'Unleaded', 'N/a', 'Bi fuel'], dtype=object)"
      ]
     },
     "execution_count": 23,
     "metadata": {},
     "output_type": "execute_result"
    }
   ],
   "source": [
    "data = data.replace({'engine' : \n",
    "                        {'Petrol hybrid': 'Hybrid','Petrol hybrid': 'Hybrid', \n",
    "                        'Petrol / electric hy' : 'Hybrid','Petrol plug-in hybri': 'Plug_in_hybrid',\n",
    "                        'Hybrid electric': 'Hybrid','Petrol/electric hybr': 'Hybrid',\n",
    "                        'Petrol/mhev': 'Hybrid','Plug-in hybrid': 'Plug_in_hybrid',\n",
    "                        'Electric diesel': 'Hybrid','Electric only': 'Electric',\n",
    "                        'Petrol series phev': 'Hybrid','Diesel hybrid':'Hybrid',\n",
    "                        'Petrol parallel phev': 'Hybrid', 'Petrol/plugin elec h': 'Hybrid',\n",
    "                        'Petrol / electric hy': 'Hybrid', 'Diesel/mhev': 'Hybrid', 'Petrol/plugin e': 'Plug_in_hybrid',\n",
    "                        'Diesel/electric hybr': 'Hybrid', 'Diesel plug-in hybri': 'Plug_in_hybrid',\n",
    "                        'Petrol plug-in': 'Plug_in_hybrid', 'Diesel/plugin e': 'Plug_in_hybrid',\n",
    "                        'Diesel parallel phev': 'Hybrid', 'Diesel / electric hy': 'Hybrid',\n",
    "                        'Diesel/plugin elec h': 'Plug_in_hybrid', 'Electric / petrol': 'Hybrid', 'Electric / diesel': 'Hybrid',   \n",
    "                        'Petrol/electric' : 'Hybrid'}\n",
    "                     })\n",
    "data['engine'].unique()"
   ]
  },
  {
   "cell_type": "markdown",
   "metadata": {},
   "source": [
    "Remove rows with 'Unleaded', 'N/a', and 'Bi fuel' engine types"
   ]
  },
  {
   "cell_type": "code",
   "execution_count": 24,
   "metadata": {},
   "outputs": [
    {
     "data": {
      "text/plain": [
       "(66791, 8)"
      ]
     },
     "execution_count": 24,
     "metadata": {},
     "output_type": "execute_result"
    }
   ],
   "source": [
    "data = data[~data['engine'].isin(['Unleaded', 'N/a', 'Bi fuel'])]\n",
    "data.shape"
   ]
  },
  {
   "cell_type": "markdown",
   "metadata": {},
   "source": [
    "## TRANSMISSION"
   ]
  },
  {
   "cell_type": "code",
   "execution_count": 25,
   "metadata": {},
   "outputs": [
    {
     "data": {
      "text/plain": [
       "array(['Automatic', 'Manual', 'Semi auto', 'Cvt', 'Semi automatic',\n",
       "       'Semiauto', 'Unknown', 'Semi-automatic', 'Tr-ew', 'Auto 7 gears',\n",
       "       'Cvt automa', 'Tr-ga', 'Other', 'Tr-a7', 'Tr-ai', 'Semiautomatic',\n",
       "       'Auto 10 gears', 'Tr-wa'], dtype=object)"
      ]
     },
     "execution_count": 25,
     "metadata": {},
     "output_type": "execute_result"
    }
   ],
   "source": [
    "data['transmission'].unique()"
   ]
  },
  {
   "cell_type": "code",
   "execution_count": 26,
   "metadata": {},
   "outputs": [
    {
     "data": {
      "text/plain": [
       "array(['Automatic', 'Manual', 'Semiautomatic'], dtype=object)"
      ]
     },
     "execution_count": 26,
     "metadata": {},
     "output_type": "execute_result"
    }
   ],
   "source": [
    "data = data.replace({'transmission' : \n",
    "                    {'Semi auto': 'Semiautomatic', 'Semiauto': 'Semiautomatic',\n",
    "                    'Semi automatic': 'Semiautomatic', 'Manual ': 'Manual',\n",
    "                    'Semi-automatic': 'Semiautomatic', 'Cvt automa': 'Automatic',\n",
    "                    'Cvt': 'Automatic', 'Tr-ew': 'Automatic', 'Tr-ga': 'Automatic',\n",
    "                    'Tr-a7': 'Automatic', 'Tr-ai': 'Automatic', 'Auto 10 gears': 'Automatic',\n",
    "                    'Tr-wa': 'Automatic', 'Auto 7 gears': 'Automatic'}\n",
    "                    })\n",
    "#remove 'Unknown' and 'Other' values\n",
    "data = data[~data['transmission'].isin(['Unknown', 'Other'])]      \n",
    "data['transmission'].unique()"
   ]
  },
  {
   "cell_type": "code",
   "execution_count": 27,
   "metadata": {},
   "outputs": [
    {
     "data": {
      "text/plain": [
       "(66779, 8)"
      ]
     },
     "execution_count": 27,
     "metadata": {},
     "output_type": "execute_result"
    }
   ],
   "source": [
    "data.shape"
   ]
  },
  {
   "cell_type": "markdown",
   "metadata": {},
   "source": [
    "Reorder the columns to make the dataframe easy to understand"
   ]
  },
  {
   "cell_type": "code",
   "execution_count": 28,
   "metadata": {},
   "outputs": [
    {
     "data": {
      "text/html": [
       "<div>\n",
       "<style scoped>\n",
       "    .dataframe tbody tr th:only-of-type {\n",
       "        vertical-align: middle;\n",
       "    }\n",
       "\n",
       "    .dataframe tbody tr th {\n",
       "        vertical-align: top;\n",
       "    }\n",
       "\n",
       "    .dataframe thead th {\n",
       "        text-align: right;\n",
       "    }\n",
       "</style>\n",
       "<table border=\"1\" class=\"dataframe\">\n",
       "  <thead>\n",
       "    <tr style=\"text-align: right;\">\n",
       "      <th></th>\n",
       "      <th>name</th>\n",
       "      <th>manufacturer</th>\n",
       "      <th>year</th>\n",
       "      <th>age</th>\n",
       "      <th>kilometerage</th>\n",
       "      <th>engine</th>\n",
       "      <th>transmission</th>\n",
       "      <th>price</th>\n",
       "    </tr>\n",
       "  </thead>\n",
       "  <tbody>\n",
       "    <tr>\n",
       "      <th>0</th>\n",
       "      <td>Ford Fiesta</td>\n",
       "      <td>FORD</td>\n",
       "      <td>2003</td>\n",
       "      <td>22</td>\n",
       "      <td>175418</td>\n",
       "      <td>Petrol</td>\n",
       "      <td>Automatic</td>\n",
       "      <td>1500</td>\n",
       "    </tr>\n",
       "    <tr>\n",
       "      <th>1</th>\n",
       "      <td>Vauxhall Corsa</td>\n",
       "      <td>VAUXHALL</td>\n",
       "      <td>2003</td>\n",
       "      <td>22</td>\n",
       "      <td>175418</td>\n",
       "      <td>Petrol</td>\n",
       "      <td>Automatic</td>\n",
       "      <td>1500</td>\n",
       "    </tr>\n",
       "    <tr>\n",
       "      <th>2</th>\n",
       "      <td>Vauxhall Zafira</td>\n",
       "      <td>VAUXHALL</td>\n",
       "      <td>2003</td>\n",
       "      <td>22</td>\n",
       "      <td>175418</td>\n",
       "      <td>Petrol</td>\n",
       "      <td>Automatic</td>\n",
       "      <td>1500</td>\n",
       "    </tr>\n",
       "    <tr>\n",
       "      <th>3</th>\n",
       "      <td>Peugeot 107</td>\n",
       "      <td>PEUGEOT</td>\n",
       "      <td>2003</td>\n",
       "      <td>22</td>\n",
       "      <td>175418</td>\n",
       "      <td>Petrol</td>\n",
       "      <td>Automatic</td>\n",
       "      <td>1500</td>\n",
       "    </tr>\n",
       "    <tr>\n",
       "      <th>4</th>\n",
       "      <td>Vauxhall Corsa</td>\n",
       "      <td>VAUXHALL</td>\n",
       "      <td>2003</td>\n",
       "      <td>22</td>\n",
       "      <td>175418</td>\n",
       "      <td>Petrol</td>\n",
       "      <td>Automatic</td>\n",
       "      <td>1500</td>\n",
       "    </tr>\n",
       "  </tbody>\n",
       "</table>\n",
       "</div>"
      ],
      "text/plain": [
       "              name manufacturer  year  age  kilometerage  engine transmission  \\\n",
       "0      Ford Fiesta         FORD  2003   22        175418  Petrol    Automatic   \n",
       "1   Vauxhall Corsa     VAUXHALL  2003   22        175418  Petrol    Automatic   \n",
       "2  Vauxhall Zafira     VAUXHALL  2003   22        175418  Petrol    Automatic   \n",
       "3      Peugeot 107      PEUGEOT  2003   22        175418  Petrol    Automatic   \n",
       "4   Vauxhall Corsa     VAUXHALL  2003   22        175418  Petrol    Automatic   \n",
       "\n",
       "   price  \n",
       "0   1500  \n",
       "1   1500  \n",
       "2   1500  \n",
       "3   1500  \n",
       "4   1500  "
      ]
     },
     "execution_count": 28,
     "metadata": {},
     "output_type": "execute_result"
    }
   ],
   "source": [
    "data = data[['name', 'manufacturer', 'year', 'age', 'kilometerage', 'engine', 'transmission', 'price']]\n",
    "data.head()"
   ]
  },
  {
   "cell_type": "markdown",
   "metadata": {},
   "source": [
    "### Remove insuficeint car models \n",
    "Filter the dataframe to keep only names with 10 or more occurrences\n"
   ]
  },
  {
   "cell_type": "code",
   "execution_count": 31,
   "metadata": {},
   "outputs": [
    {
     "data": {
      "text/plain": [
       "(65388, 8)"
      ]
     },
     "execution_count": 31,
     "metadata": {},
     "output_type": "execute_result"
    }
   ],
   "source": [
    "# Count the occurrences of each name\n",
    "name_counts = data['name'].value_counts()\n",
    "data = data[data['name'].isin(name_counts[name_counts >= 10].index)]\n",
    "data.shape\n"
   ]
  },
  {
   "cell_type": "markdown",
   "metadata": {},
   "source": [
    "# Save the Cleand data"
   ]
  },
  {
   "cell_type": "code",
   "execution_count": 32,
   "metadata": {},
   "outputs": [],
   "source": [
    "#save the cleaned data to a csv file\n",
    "\n",
    "data.to_csv('../dataSet/cleaned_car_data2.csv', index = False)"
   ]
  }
 ],
 "metadata": {
  "kernelspec": {
   "display_name": "Python 3",
   "language": "python",
   "name": "python3"
  },
  "language_info": {
   "codemirror_mode": {
    "name": "ipython",
    "version": 3
   },
   "file_extension": ".py",
   "mimetype": "text/x-python",
   "name": "python",
   "nbconvert_exporter": "python",
   "pygments_lexer": "ipython3",
   "version": "3.11.9"
  }
 },
 "nbformat": 4,
 "nbformat_minor": 4
}
